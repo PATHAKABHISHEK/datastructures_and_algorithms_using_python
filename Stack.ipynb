{
 "cells": [
  {
   "cell_type": "markdown",
   "metadata": {},
   "source": [
    "# Stack"
   ]
  },
  {
   "cell_type": "markdown",
   "metadata": {},
   "source": [
    "### 1. Stack implementation using Python-List "
   ]
  },
  {
   "cell_type": "code",
   "execution_count": 36,
   "metadata": {},
   "outputs": [],
   "source": [
    "my_stack = [4, 5, 60, 19]"
   ]
  },
  {
   "cell_type": "code",
   "execution_count": 37,
   "metadata": {},
   "outputs": [],
   "source": [
    "my_stack.append(40)"
   ]
  },
  {
   "cell_type": "code",
   "execution_count": 38,
   "metadata": {},
   "outputs": [
    {
     "data": {
      "text/plain": [
       "[4, 5, 60, 19, 40]"
      ]
     },
     "execution_count": 38,
     "metadata": {},
     "output_type": "execute_result"
    }
   ],
   "source": [
    "my_stack"
   ]
  },
  {
   "cell_type": "code",
   "execution_count": 39,
   "metadata": {},
   "outputs": [
    {
     "data": {
      "text/plain": [
       "40"
      ]
     },
     "execution_count": 39,
     "metadata": {},
     "output_type": "execute_result"
    }
   ],
   "source": [
    "my_stack.pop()"
   ]
  },
  {
   "cell_type": "code",
   "execution_count": 40,
   "metadata": {},
   "outputs": [
    {
     "data": {
      "text/plain": [
       "[4, 5, 60, 19]"
      ]
     },
     "execution_count": 40,
     "metadata": {},
     "output_type": "execute_result"
    }
   ],
   "source": [
    "my_stack"
   ]
  },
  {
   "cell_type": "markdown",
   "metadata": {},
   "source": [
    "### 2. Stack implementation using Linked List"
   ]
  },
  {
   "cell_type": "code",
   "execution_count": 41,
   "metadata": {},
   "outputs": [],
   "source": [
    "class Element():\n",
    "    \n",
    "    def __init__(self, value):\n",
    "        self.value = value\n",
    "        self.next = None"
   ]
  },
  {
   "cell_type": "code",
   "execution_count": 42,
   "metadata": {},
   "outputs": [],
   "source": [
    "class SinglyLinkedList():\n",
    "    \n",
    "    def __init__(self, head = None):\n",
    "        self.head = head\n",
    "        \n",
    "    def append(self, new_element):\n",
    "        current = self.head\n",
    "        \n",
    "        if current:\n",
    "            while current.next:\n",
    "                current = current.next\n",
    "            current.next = new_element\n",
    "        else:\n",
    "            self.head = new_element\n",
    "            \n",
    "    def print_all_elements(self):\n",
    "        current = self.head\n",
    "        if current:\n",
    "            while current.next:\n",
    "                print(current.value)\n",
    "                current = current.next\n",
    "            print(current.value)\n",
    "        else:\n",
    "            print(\"None\")\n",
    "    \n",
    "    def insert(self, position, new_element):\n",
    "        \"\"\"position is specified from 1 not 0\"\"\"\n",
    "        current = self.head\n",
    "        if current:\n",
    "            pos = 1\n",
    "            if pos == position:\n",
    "                self.head = new_element\n",
    "                new_element.next = current\n",
    "                return None\n",
    "\n",
    "            while current.next:\n",
    "                current = current.next\n",
    "                pos +=1\n",
    "\n",
    "                if pos == position:\n",
    "                    new_element.next = current.next\n",
    "                    current.next = new_element\n",
    "                    return None\n",
    "\n",
    "        else:\n",
    "            self.node = new_element\n",
    "            \n",
    "        \n",
    "    def delete(self, value):\n",
    "        \"\"\"Deleteing node whose value matches to the value passed in the function.\"\"\"\n",
    "        current = self.head\n",
    "        if current:\n",
    "            if current.value == value:\n",
    "                self.head = current.next\n",
    "                return None\n",
    "            while current.next:\n",
    "                if current.next.value == value:\n",
    "                    current.next = current.next.next\n",
    "                    return None\n",
    "                    \n",
    "                current = current.next\n",
    "                     \n",
    "                    \n",
    "        else:\n",
    "            print(\"Nothing to delete, linked list is empty, Please add smething to delete.\")\n",
    "        \n",
    "        \n",
    "    def get_element(self, position):\n",
    "        \"\"\"returns the element at specific location.\"\"\"\n",
    "        \"\"\"please give the position starting from 1 not from 0.\"\"\"\n",
    "        current =self.head\n",
    "        if current:\n",
    "            pos = 1\n",
    "            if pos == position:\n",
    "                return current\n",
    "            else:\n",
    "                while current.next:\n",
    "                    current = current.next\n",
    "                    pos += 1\n",
    "                    if pos == position:\n",
    "                        return current\n",
    "                    elif current.next == None:\n",
    "                        print(\"No element occurs at that position in linked list.\")\n",
    "                        return None\n",
    "        else:\n",
    "            print(\"Linked list is empty, please insert some elements and then use this method.\")"
   ]
  },
  {
   "cell_type": "code",
   "execution_count": 43,
   "metadata": {},
   "outputs": [],
   "source": [
    "\"\"\"In this stack we are taking last element of the linked list as the top of the stack.\"\"\"\n",
    "class Stack():\n",
    "    \n",
    "    def __init__(self, top = None):\n",
    "        self.ll = SinglyLinkedList(top)\n",
    "    \n",
    "    def push(self, new_element):\n",
    "        \"\"\"push the element at the top of the stack similar to append\"\"\"\n",
    "        self.ll.append(new_element)\n",
    "    \n",
    "    def pop(self):\n",
    "        \"\"\"Here we pop the last element or the top element of the stack\"\"\"\n",
    "        current = self.ll.head\n",
    "        if current:\n",
    "            while current.next.next:\n",
    "                current = current.next\n",
    "            current.next = None\n",
    "        else:\n",
    "            print(\"Nothing to delete.\")\n",
    "        \n",
    "        "
   ]
  },
  {
   "cell_type": "code",
   "execution_count": 44,
   "metadata": {},
   "outputs": [],
   "source": [
    "my_stack = Stack()"
   ]
  },
  {
   "cell_type": "code",
   "execution_count": 45,
   "metadata": {},
   "outputs": [],
   "source": [
    "my_stack.push(Element(3))\n",
    "my_stack.push(Element(5))\n",
    "my_stack.push(Element(6))\n",
    "my_stack.push(Element(7))"
   ]
  },
  {
   "cell_type": "code",
   "execution_count": 46,
   "metadata": {},
   "outputs": [
    {
     "name": "stdout",
     "output_type": "stream",
     "text": [
      "3\n",
      "5\n",
      "6\n",
      "7\n"
     ]
    }
   ],
   "source": [
    "my_stack.ll.print_all_elements()"
   ]
  },
  {
   "cell_type": "code",
   "execution_count": 47,
   "metadata": {},
   "outputs": [],
   "source": [
    "my_stack.pop()"
   ]
  },
  {
   "cell_type": "code",
   "execution_count": 48,
   "metadata": {},
   "outputs": [
    {
     "name": "stdout",
     "output_type": "stream",
     "text": [
      "3\n",
      "5\n",
      "6\n"
     ]
    }
   ],
   "source": [
    "my_stack.ll.print_all_elements()"
   ]
  },
  {
   "cell_type": "code",
   "execution_count": null,
   "metadata": {},
   "outputs": [],
   "source": []
  }
 ],
 "metadata": {
  "kernelspec": {
   "display_name": "Python 3",
   "language": "python",
   "name": "python3"
  },
  "language_info": {
   "codemirror_mode": {
    "name": "ipython",
    "version": 3
   },
   "file_extension": ".py",
   "mimetype": "text/x-python",
   "name": "python",
   "nbconvert_exporter": "python",
   "pygments_lexer": "ipython3",
   "version": "3.7.1"
  }
 },
 "nbformat": 4,
 "nbformat_minor": 2
}
