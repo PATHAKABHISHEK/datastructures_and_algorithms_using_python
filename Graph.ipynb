{
 "cells": [
  {
   "cell_type": "markdown",
   "metadata": {},
   "source": [
    "# Graphs"
   ]
  },
  {
   "cell_type": "markdown",
   "metadata": {},
   "source": [
    "### \"\"\"Here we are breaking node and edges into different classes and then create a Graph class which handles these two objects.\"\"\""
   ]
  },
  {
   "cell_type": "code",
   "execution_count": 1,
   "metadata": {},
   "outputs": [],
   "source": [
    "class Node():\n",
    "    \n",
    "    def __init__(self, value):\n",
    "        self.value = value\n",
    "        self.edges = []\n"
   ]
  },
  {
   "cell_type": "code",
   "execution_count": 2,
   "metadata": {},
   "outputs": [],
   "source": [
    "class Edge():\n",
    "    \"\"\"here we are asumming that there is weight of the edge in the graph\"\"\"\n",
    "    def __init__(self, value, from_node, to_node):\n",
    "        self.value = value\n",
    "        self.from_node = from_node\n",
    "        self.to_node = to_node"
   ]
  },
  {
   "cell_type": "code",
   "execution_count": 3,
   "metadata": {},
   "outputs": [],
   "source": [
    "class Graph():\n",
    "    \n",
    "    def __init__(self, nodes = [], edges = []):\n",
    "        self.nodes = nodes\n",
    "        self.edges = edges\n",
    "    \n",
    "    def insert_node(self, node_value):\n",
    "        self.nodes.append(Node(node_value))\n",
    "    \n",
    "    def insert_edge(self, edge_value, from_node_val, to_node_val):\n",
    "        from_node = None\n",
    "        to_node = None\n",
    "        \n",
    "        for node in self.nodes:\n",
    "            if from_node_val == node.value:\n",
    "                from_node = node\n",
    "                \n",
    "        for node in self.nodes:\n",
    "            if to_node_val == node.value:\n",
    "                to_node = node\n",
    "        \n",
    "        new_edge = Edge(edge_value, from_node, to_node)\n",
    "        self.edges.append(new_edge)\n",
    "        from_node.edges.append(new_edge)\n",
    "            \n",
    "    def get_edge_list(self):\n",
    "        \"\"\"Simply returns the edges connected to each node.\"\"\"\n",
    "        edge_list = []\n",
    "        \n",
    "        for edge in self.edges:\n",
    "            edge_list.append([edge.from_node.value, edge.to_node.value])\n",
    "        return edge_list\n",
    "    \n",
    "    def get_adjacency_list(self):\n",
    "        \"\"\" It is a list which stores the vertices which has edges between them.\"\"\"\n",
    "        \n",
    "        adjacency_list = []\n",
    "        \n",
    "        for node in self.nodes:\n",
    "            each_node_list = []\n",
    "            for node_edge in node.edges:\n",
    "                val = node_edge.to_node.value\n",
    "                each_node_list.append(val)\n",
    "            \n",
    "            adjacency_list.append((each_node_list))\n",
    "        \n",
    "        return adjacency_list \n",
    "    \n",
    "    def get_adjacency_matrix(self):\n",
    "        \n",
    "        adj_matrix = []\n",
    "        \n",
    "        for i in range(len(self.nodes)):\n",
    "            adj_matrix.append([])\n",
    "            for j in range(len(self.nodes)):\n",
    "                adj_matrix[i].append(0)\n",
    "        \n",
    "        for i, node in enumerate(self.nodes):\n",
    "            for node_edge in node.edges:\n",
    "                to_node = node_edge.to_node\n",
    "                for j, node2 in enumerate(self.nodes):\n",
    "                    if node2 == to_node:\n",
    "                        adj_matrix[i][j] = 1\n",
    "                        break\n",
    "        return adj_matrix"
   ]
  },
  {
   "cell_type": "code",
   "execution_count": 4,
   "metadata": {},
   "outputs": [],
   "source": [
    "my_graph = Graph()"
   ]
  },
  {
   "cell_type": "code",
   "execution_count": 5,
   "metadata": {},
   "outputs": [],
   "source": [
    "my_graph.insert_node(2)\n",
    "my_graph.insert_node(3)\n",
    "my_graph.insert_node(8)\n",
    "my_graph.insert_node(9)\n",
    "my_graph.insert_node(4)\n",
    "\n",
    "my_graph.insert_edge(5, 2, 3)\n",
    "my_graph.insert_edge(6, 2, 8)\n",
    "my_graph.insert_edge(7, 8, 9)\n",
    "my_graph.insert_edge(8, 9, 4)\n",
    "my_graph.insert_edge(9, 3, 4)"
   ]
  },
  {
   "cell_type": "code",
   "execution_count": 6,
   "metadata": {},
   "outputs": [
    {
     "data": {
      "text/plain": [
       "[[2, 3], [2, 8], [8, 9], [9, 4], [3, 4]]"
      ]
     },
     "execution_count": 6,
     "metadata": {},
     "output_type": "execute_result"
    }
   ],
   "source": [
    "my_graph.get_edge_list()"
   ]
  },
  {
   "cell_type": "code",
   "execution_count": 7,
   "metadata": {},
   "outputs": [
    {
     "data": {
      "text/plain": [
       "[[3, 8], [4], [9], [4], []]"
      ]
     },
     "execution_count": 7,
     "metadata": {},
     "output_type": "execute_result"
    }
   ],
   "source": [
    "my_graph.get_adjacency_list()"
   ]
  },
  {
   "cell_type": "code",
   "execution_count": 8,
   "metadata": {},
   "outputs": [
    {
     "data": {
      "text/plain": [
       "[[0, 1, 1, 0, 0],\n",
       " [0, 0, 0, 0, 1],\n",
       " [0, 0, 0, 1, 0],\n",
       " [0, 0, 0, 0, 1],\n",
       " [0, 0, 0, 0, 0]]"
      ]
     },
     "execution_count": 8,
     "metadata": {},
     "output_type": "execute_result"
    }
   ],
   "source": [
    "my_graph.get_adjacency_matrix()"
   ]
  },
  {
   "cell_type": "code",
   "execution_count": null,
   "metadata": {},
   "outputs": [],
   "source": []
  },
  {
   "cell_type": "code",
   "execution_count": null,
   "metadata": {},
   "outputs": [],
   "source": []
  }
 ],
 "metadata": {
  "kernelspec": {
   "display_name": "Python 3",
   "language": "python",
   "name": "python3"
  },
  "language_info": {
   "codemirror_mode": {
    "name": "ipython",
    "version": 3
   },
   "file_extension": ".py",
   "mimetype": "text/x-python",
   "name": "python",
   "nbconvert_exporter": "python",
   "pygments_lexer": "ipython3",
   "version": "3.7.1"
  }
 },
 "nbformat": 4,
 "nbformat_minor": 2
}
