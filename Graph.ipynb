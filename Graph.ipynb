{
 "cells": [
  {
   "cell_type": "markdown",
   "metadata": {},
   "source": [
    "# Graphs"
   ]
  },
  {
   "cell_type": "markdown",
   "metadata": {},
   "source": [
    "### \"\"\"Here we are breaking node and edges into different classes and then create a Graph class which handles these two objects.\"\"\""
   ]
  },
  {
   "cell_type": "code",
   "execution_count": 1,
   "metadata": {},
   "outputs": [],
   "source": [
    "class Node():\n",
    "    \n",
    "    def __init__(self, value):\n",
    "        self.value = value\n",
    "        self.edges = []\n"
   ]
  },
  {
   "cell_type": "code",
   "execution_count": 4,
   "metadata": {},
   "outputs": [],
   "source": [
    "class Edge():\n",
    "    \"\"\"here we are asumming that there is weight of the edge in the graph\"\"\"\n",
    "    def __init__(self, value, from_node, to_node):\n",
    "        self.value = value\n",
    "        self.node_from = node_from\n",
    "        self.node_to = node_to"
   ]
  },
  {
   "cell_type": "code",
   "execution_count": 5,
   "metadata": {},
   "outputs": [],
   "source": [
    "class Graph():\n",
    "    \n",
    "    def __init__(self, nodes = [], edges = []):\n",
    "        self.nodes = nodes\n",
    "        self.edges = edges\n",
    "    \n",
    "    def insert_node(self, node_value):\n",
    "        self.nodes.append(Node(node_value))\n",
    "    \n",
    "    def insert_edge(self, edge_value, from_node_val, to_node_val):\n",
    "        from_node = None\n",
    "        to_node = None\n",
    "        \n",
    "        for node in self.nodes:\n",
    "            if from_node_val == node.value:\n",
    "                from_node = node\n",
    "                \n",
    "        for node in self.nodes:\n",
    "            if to_node_val == node.value:\n",
    "                to_node = node\n",
    "        \n",
    "        new_edge = Edge(edge_value, from_node, to_val)\n",
    "        self.edges.append(new_edge)\n",
    "        from_node.edges.append(new_edge)\n",
    "        to_node.edges.append(new_edge)\n",
    "        \n",
    "    \n",
    "    def get_edge_list(self):\n",
    "        pass\n",
    "    \n",
    "    def get_adjancency_list(self):\n",
    "        pass\n",
    "    \n",
    "    def adjacencey_matrix(self):\n",
    "        pass"
   ]
  },
  {
   "cell_type": "code",
   "execution_count": null,
   "metadata": {},
   "outputs": [],
   "source": []
  }
 ],
 "metadata": {
  "kernelspec": {
   "display_name": "Python 3",
   "language": "python",
   "name": "python3"
  },
  "language_info": {
   "codemirror_mode": {
    "name": "ipython",
    "version": 3
   },
   "file_extension": ".py",
   "mimetype": "text/x-python",
   "name": "python",
   "nbconvert_exporter": "python",
   "pygments_lexer": "ipython3",
   "version": "3.7.1"
  }
 },
 "nbformat": 4,
 "nbformat_minor": 2
}
