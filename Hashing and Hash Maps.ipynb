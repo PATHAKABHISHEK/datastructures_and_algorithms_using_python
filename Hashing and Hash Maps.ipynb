{
 "cells": [
  {
   "cell_type": "markdown",
   "metadata": {},
   "source": [
    "# Hashing"
   ]
  },
  {
   "cell_type": "code",
   "execution_count": 1,
   "metadata": {},
   "outputs": [],
   "source": [
    "class Hashing():\n",
    "    \n",
    "    def __init__(self):\n",
    "        self.hash_map = {}\n",
    "    \n",
    "    def hash_function1(self,value):\n",
    "        \"\"\"In this hash function user will give value.\"\"\"\n",
    "        \"\"\"Here in this first hashing function, we directly divide the value by key.\"\"\"\n",
    "        self.__key= 10\n",
    "        key_in_dictionary = value%self.__key\n",
    "        return key_in_dictionary\n",
    "        \n",
    "    def insert_into_hash_map(self,value):\n",
    "        \n",
    "        key_in_dictionary = self.hash_function1(value)\n",
    "        \n",
    "        if key_in_dictionary in self.hash_map:\n",
    "            self.hash_map[key_in_dictionary].append(value)\n",
    "        else:\n",
    "            self.hash_map[key_in_dictionary] = [value]\n",
    "    \n",
    "    \n",
    "    def print_hash_table(self):\n",
    "        \n",
    "        for key, value in self.hash_map.items():\n",
    "            print(str(key) + \"\\t\" + str(value))\n",
    "    \n",
    "    def search_through_hash_function1(self,value):\n",
    "        \n",
    "        key_in_dictionary = self.hash_function1(value)\n",
    "        \n",
    "        if not (key_in_dictionary in self.hash_map):\n",
    "            return (\"Value is not present in the hash map.\")\n",
    "        \n",
    "        elif len(self.hash_map[key_in_dictionary]) > 1:\n",
    "            for i, list_value in enumerate(self.hash_map[key_in_dictionary]):\n",
    "                if value == list_value:\n",
    "                    return str(key_in_dictionary) + \" index and within that we have list where, I am stored at \" + str(i) + \" index.\"\n",
    "        \n",
    "        else:\n",
    "            return str(key_in_dictionary) + \" index.\"\n",
    "        "
   ]
  },
  {
   "cell_type": "code",
   "execution_count": 2,
   "metadata": {},
   "outputs": [],
   "source": [
    "my_hash = Hashing()"
   ]
  },
  {
   "cell_type": "code",
   "execution_count": 3,
   "metadata": {},
   "outputs": [],
   "source": [
    "my_hash.insert_into_hash_map(3)"
   ]
  },
  {
   "cell_type": "code",
   "execution_count": 4,
   "metadata": {},
   "outputs": [],
   "source": [
    "my_hash.insert_into_hash_map(3)\n",
    "my_hash.insert_into_hash_map(5)\n",
    "my_hash.insert_into_hash_map(400)\n",
    "my_hash.insert_into_hash_map(523)\n",
    "my_hash.insert_into_hash_map(34577)\n",
    "my_hash.insert_into_hash_map(1190)\n",
    "my_hash.insert_into_hash_map(746874543785)\n",
    "my_hash.insert_into_hash_map(6667)\n",
    "my_hash.insert_into_hash_map(32)\n",
    "my_hash.insert_into_hash_map(1123578)"
   ]
  },
  {
   "cell_type": "code",
   "execution_count": 5,
   "metadata": {},
   "outputs": [
    {
     "name": "stdout",
     "output_type": "stream",
     "text": [
      "3\t[3, 3, 523]\n",
      "5\t[5, 746874543785]\n",
      "0\t[400, 1190]\n",
      "7\t[34577, 6667]\n",
      "2\t[32]\n",
      "8\t[1123578]\n"
     ]
    }
   ],
   "source": [
    "my_hash.print_hash_table()\n"
   ]
  },
  {
   "cell_type": "code",
   "execution_count": 6,
   "metadata": {},
   "outputs": [
    {
     "data": {
      "text/plain": [
       "'3 index and within that we have list where, I am stored at 2 index.'"
      ]
     },
     "execution_count": 6,
     "metadata": {},
     "output_type": "execute_result"
    }
   ],
   "source": [
    "my_hash.search_through_hash_function1(523)\n"
   ]
  },
  {
   "cell_type": "code",
   "execution_count": 7,
   "metadata": {},
   "outputs": [
    {
     "data": {
      "text/plain": [
       "'Value is not present in the hash map.'"
      ]
     },
     "execution_count": 7,
     "metadata": {},
     "output_type": "execute_result"
    }
   ],
   "source": [
    "my_hash.search_through_hash_function1(111)\n"
   ]
  },
  {
   "cell_type": "code",
   "execution_count": null,
   "metadata": {},
   "outputs": [],
   "source": []
  }
 ],
 "metadata": {
  "kernelspec": {
   "display_name": "Python 3",
   "language": "python",
   "name": "python3"
  },
  "language_info": {
   "codemirror_mode": {
    "name": "ipython",
    "version": 3
   },
   "file_extension": ".py",
   "mimetype": "text/x-python",
   "name": "python",
   "nbconvert_exporter": "python",
   "pygments_lexer": "ipython3",
   "version": "3.7.1"
  }
 },
 "nbformat": 4,
 "nbformat_minor": 2
}
