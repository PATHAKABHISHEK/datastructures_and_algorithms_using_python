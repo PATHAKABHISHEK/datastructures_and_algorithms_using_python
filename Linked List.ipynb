{
 "cells": [
  {
   "cell_type": "markdown",
   "metadata": {},
   "source": [
    "# Linked List "
   ]
  },
  {
   "cell_type": "markdown",
   "metadata": {},
   "source": [
    "### 1. Singly Linked List"
   ]
  },
  {
   "cell_type": "code",
   "execution_count": 1,
   "metadata": {},
   "outputs": [],
   "source": [
    "class Element():\n",
    "    \n",
    "    def __init__(self, value):\n",
    "        self.value = value\n",
    "        self.next = None"
   ]
  },
  {
   "cell_type": "code",
   "execution_count": 2,
   "metadata": {},
   "outputs": [],
   "source": [
    "class SinglyLinkedList():\n",
    "    \n",
    "    def __init__(self, head = None):\n",
    "        self.head = head\n",
    "        \n",
    "    def append(self, new_element):\n",
    "        current = self.head\n",
    "        \n",
    "        if current:\n",
    "            while current.next:\n",
    "                current = current.next\n",
    "            current.next = new_element\n",
    "        else:\n",
    "            self.head = new_element\n",
    "            \n",
    "    def print_all_elements(self):\n",
    "        current = self.head\n",
    "        if current:\n",
    "            while current.next:\n",
    "                print(current.value)\n",
    "                current = current.next\n",
    "            print(current.value)\n",
    "        else:\n",
    "            print(\"None\")\n",
    "    \n",
    "    def insert(self, position, new_element):\n",
    "        \"\"\"position is specified from 1 not 0\"\"\"\n",
    "        current = self.head\n",
    "        if current:\n",
    "            pos = 1\n",
    "            if pos == position:\n",
    "                self.head = new_element\n",
    "                new_element.next = current\n",
    "                return None\n",
    "\n",
    "            while current.next:\n",
    "                current = current.next\n",
    "                pos +=1\n",
    "\n",
    "                if pos == position:\n",
    "                    new_element.next = current.next\n",
    "                    current.next = new_element\n",
    "                    return None\n",
    "\n",
    "        else:\n",
    "            self.node = new_element\n",
    "            \n",
    "        \n",
    "    def delete(self, value):\n",
    "        \"\"\"Deleteing node whose value matches to the value passed in the function.\"\"\"\n",
    "        current = self.head\n",
    "        if current:\n",
    "            if current.value == value:\n",
    "                self.head = current.next\n",
    "                return None\n",
    "            while current.next:\n",
    "                if current.next.value == value:\n",
    "                    current.next = current.next.next\n",
    "                    return None\n",
    "                    \n",
    "                current = current.next\n",
    "                     \n",
    "                    \n",
    "        else:\n",
    "            print(\"Nothing to delete, linked list is empty, Please add smething to delete.\")\n",
    "        \n",
    "        \n",
    "    def get_element(self, position):\n",
    "        \"\"\"returns the element at specific location.\"\"\"\n",
    "        \"\"\"please give the position starting from 1 not from 0.\"\"\"\n",
    "        current =self.head\n",
    "        if current:\n",
    "            pos = 1\n",
    "            if pos == position:\n",
    "                return current\n",
    "            else:\n",
    "                while current.next:\n",
    "                    current = current.next\n",
    "                    pos += 1\n",
    "                    if pos == position:\n",
    "                        return current\n",
    "                    elif current.next == None:\n",
    "                        print(\"No element occurs at that position in linked list.\")\n",
    "                        return None\n",
    "        else:\n",
    "            print(\"Linked list is empty, please insert some elements and then use this method.\")\n",
    "            \n",
    "        \n",
    "    def insert_first(self, new_element):\n",
    "        \"\"\"Inserts at the head of the linked list.\"\"\"\n",
    "        current = self.head\n",
    "        new_element.next = current\n",
    "        self.head = new_element\n",
    "    \n",
    "    def delete_first(self):\n",
    "        \"\"\"delete the first element of the linked list.\"\"\"\n",
    "        current = self.head\n",
    "        self.head = current.next\n",
    "        del(current)\n",
    "        \n",
    "            \n",
    "    \n",
    "        \n",
    "        \n",
    "            "
   ]
  },
  {
   "cell_type": "code",
   "execution_count": 3,
   "metadata": {},
   "outputs": [],
   "source": [
    "my_linked_list = SinglyLinkedList()\n",
    "\n",
    "first_element = Element(1)\n",
    "\n",
    "second_element = Element(2)\n",
    "\n",
    "third_element = Element(10)"
   ]
  },
  {
   "cell_type": "code",
   "execution_count": 4,
   "metadata": {},
   "outputs": [],
   "source": [
    "my_linked_list.append(first_element)"
   ]
  },
  {
   "cell_type": "code",
   "execution_count": 5,
   "metadata": {},
   "outputs": [
    {
     "data": {
      "text/plain": [
       "1"
      ]
     },
     "execution_count": 5,
     "metadata": {},
     "output_type": "execute_result"
    }
   ],
   "source": [
    "(my_linked_list.head).value"
   ]
  },
  {
   "cell_type": "code",
   "execution_count": 6,
   "metadata": {},
   "outputs": [],
   "source": [
    "my_linked_list.append(second_element)\n",
    "my_linked_list.append(third_element)"
   ]
  },
  {
   "cell_type": "code",
   "execution_count": 7,
   "metadata": {},
   "outputs": [
    {
     "name": "stdout",
     "output_type": "stream",
     "text": [
      "1\n",
      "2\n",
      "10\n"
     ]
    }
   ],
   "source": [
    "my_linked_list.print_all_elements()"
   ]
  },
  {
   "cell_type": "code",
   "execution_count": 8,
   "metadata": {},
   "outputs": [],
   "source": [
    "fourth_element = Element(50)"
   ]
  },
  {
   "cell_type": "code",
   "execution_count": 9,
   "metadata": {},
   "outputs": [],
   "source": [
    "my_linked_list.insert(2, fourth_element)\n"
   ]
  },
  {
   "cell_type": "code",
   "execution_count": 10,
   "metadata": {
    "scrolled": true
   },
   "outputs": [],
   "source": [
    "my_linked_list.delete(50)"
   ]
  },
  {
   "cell_type": "code",
   "execution_count": 11,
   "metadata": {},
   "outputs": [
    {
     "name": "stdout",
     "output_type": "stream",
     "text": [
      "1\n",
      "2\n",
      "10\n"
     ]
    }
   ],
   "source": [
    "my_linked_list.print_all_elements()"
   ]
  },
  {
   "cell_type": "code",
   "execution_count": 12,
   "metadata": {},
   "outputs": [
    {
     "name": "stdout",
     "output_type": "stream",
     "text": [
      "No element occurs at that position in linked list.\n"
     ]
    }
   ],
   "source": [
    "my_linked_list.get_element(4)"
   ]
  },
  {
   "cell_type": "code",
   "execution_count": 13,
   "metadata": {},
   "outputs": [
    {
     "name": "stdout",
     "output_type": "stream",
     "text": [
      "100\n",
      "1\n",
      "2\n",
      "10\n"
     ]
    }
   ],
   "source": [
    "my_linked_list.insert_first(Element(100))\n",
    "my_linked_list.print_all_elements()"
   ]
  },
  {
   "cell_type": "code",
   "execution_count": 14,
   "metadata": {},
   "outputs": [
    {
     "name": "stdout",
     "output_type": "stream",
     "text": [
      "1\n",
      "2\n",
      "10\n"
     ]
    }
   ],
   "source": [
    "my_linked_list.delete_first()\n",
    "my_linked_list.print_all_elements()"
   ]
  },
  {
   "cell_type": "code",
   "execution_count": null,
   "metadata": {},
   "outputs": [],
   "source": []
  }
 ],
 "metadata": {
  "kernelspec": {
   "display_name": "Python 3",
   "language": "python",
   "name": "python3"
  },
  "language_info": {
   "codemirror_mode": {
    "name": "ipython",
    "version": 3
   },
   "file_extension": ".py",
   "mimetype": "text/x-python",
   "name": "python",
   "nbconvert_exporter": "python",
   "pygments_lexer": "ipython3",
   "version": "3.7.1"
  }
 },
 "nbformat": 4,
 "nbformat_minor": 2
}
