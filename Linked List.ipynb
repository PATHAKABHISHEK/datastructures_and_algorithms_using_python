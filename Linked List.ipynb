{
 "cells": [
  {
   "cell_type": "markdown",
   "metadata": {},
   "source": [
    "# Linked List "
   ]
  },
  {
   "cell_type": "markdown",
   "metadata": {},
   "source": [
    "### 1. Singly Linked List"
   ]
  },
  {
   "cell_type": "code",
   "execution_count": 52,
   "metadata": {},
   "outputs": [],
   "source": [
    "class Element():\n",
    "    \n",
    "    def __init__(self, value):\n",
    "        self.value = value\n",
    "        self.next = None"
   ]
  },
  {
   "cell_type": "code",
   "execution_count": 53,
   "metadata": {},
   "outputs": [],
   "source": [
    "class SinglyLinkedList():\n",
    "    \n",
    "    def __init__(self, head = None):\n",
    "        self.head = head\n",
    "        \n",
    "    def append(self, new_element):\n",
    "        current = self.head\n",
    "        \n",
    "        if current:\n",
    "            while current.next:\n",
    "                current = current.next\n",
    "            current.next = new_element\n",
    "        else:\n",
    "            self.head = new_element\n",
    "            \n",
    "    def print_all_elements(self):\n",
    "        current = self.head\n",
    "        if current:\n",
    "            while current.next:\n",
    "                print(current.value)\n",
    "                current = current.next\n",
    "            print(current.value)\n",
    "        else:\n",
    "            print(\"None\")\n",
    "    \n",
    "    def insert(self, position, new_element):\n",
    "        \"\"\"position is specified from 1 not 0\"\"\"\n",
    "        current = self.head\n",
    "        if current:\n",
    "            pos = 1\n",
    "            if pos == position:\n",
    "                self.head = new_element\n",
    "                new_element.next = current\n",
    "                return None\n",
    "\n",
    "            while current.next:\n",
    "                current = current.next\n",
    "                pos +=1\n",
    "\n",
    "                if pos == position:\n",
    "                    new_element.next = current.next\n",
    "                    current.next = new_element\n",
    "                    return None\n",
    "\n",
    "        else:\n",
    "            self.node = new_element\n",
    "            \n",
    "        \n",
    "    def delete(self, value):\n",
    "        \"\"\"Deleteing node whose value matches to the value passed in the function.\"\"\"\n",
    "        current = self.head\n",
    "        if current:\n",
    "            if current.value == value:\n",
    "                self.head = current.next\n",
    "                return None\n",
    "            while current.next:\n",
    "                if current.next.value == value:\n",
    "                    current.next = current.next.next\n",
    "                    return None\n",
    "                    \n",
    "                current = current.next\n",
    "                     \n",
    "                    \n",
    "        else:\n",
    "            print(\"Nothing to delete, linked list is empty, Please add smething to delete.\")\n",
    "            \n",
    "        \n",
    "        \n",
    "            "
   ]
  },
  {
   "cell_type": "code",
   "execution_count": 54,
   "metadata": {},
   "outputs": [],
   "source": [
    "my_linked_list = SinglyLinkedList()\n",
    "\n",
    "first_element = Element(1)\n",
    "\n",
    "second_element = Element(2)\n",
    "\n",
    "third_element = Element(10)"
   ]
  },
  {
   "cell_type": "code",
   "execution_count": 55,
   "metadata": {},
   "outputs": [],
   "source": [
    "my_linked_list.append(first_element)"
   ]
  },
  {
   "cell_type": "code",
   "execution_count": 56,
   "metadata": {},
   "outputs": [
    {
     "data": {
      "text/plain": [
       "1"
      ]
     },
     "execution_count": 56,
     "metadata": {},
     "output_type": "execute_result"
    }
   ],
   "source": [
    "(my_linked_list.head).value"
   ]
  },
  {
   "cell_type": "code",
   "execution_count": 57,
   "metadata": {},
   "outputs": [],
   "source": [
    "my_linked_list.append(second_element)\n",
    "my_linked_list.append(third_element)"
   ]
  },
  {
   "cell_type": "code",
   "execution_count": 58,
   "metadata": {},
   "outputs": [
    {
     "name": "stdout",
     "output_type": "stream",
     "text": [
      "1\n",
      "2\n",
      "10\n"
     ]
    }
   ],
   "source": [
    "my_linked_list.print_all_elements()"
   ]
  },
  {
   "cell_type": "code",
   "execution_count": 59,
   "metadata": {},
   "outputs": [],
   "source": [
    "fourth_element = Element(50)"
   ]
  },
  {
   "cell_type": "code",
   "execution_count": 60,
   "metadata": {},
   "outputs": [],
   "source": [
    "my_linked_list.insert(2, fourth_element)\n"
   ]
  },
  {
   "cell_type": "code",
   "execution_count": 61,
   "metadata": {
    "scrolled": true
   },
   "outputs": [],
   "source": [
    "my_linked_list.delete(50)"
   ]
  },
  {
   "cell_type": "code",
   "execution_count": 62,
   "metadata": {},
   "outputs": [
    {
     "name": "stdout",
     "output_type": "stream",
     "text": [
      "1\n",
      "2\n",
      "10\n"
     ]
    }
   ],
   "source": [
    "my_linked_list.print_all_elements()"
   ]
  },
  {
   "cell_type": "code",
   "execution_count": null,
   "metadata": {},
   "outputs": [],
   "source": []
  }
 ],
 "metadata": {
  "kernelspec": {
   "display_name": "Python 3",
   "language": "python",
   "name": "python3"
  },
  "language_info": {
   "codemirror_mode": {
    "name": "ipython",
    "version": 3
   },
   "file_extension": ".py",
   "mimetype": "text/x-python",
   "name": "python",
   "nbconvert_exporter": "python",
   "pygments_lexer": "ipython3",
   "version": "3.7.1"
  }
 },
 "nbformat": 4,
 "nbformat_minor": 2
}
