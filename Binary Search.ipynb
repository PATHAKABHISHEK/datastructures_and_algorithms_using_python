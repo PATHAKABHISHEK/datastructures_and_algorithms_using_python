{
 "cells": [
  {
   "cell_type": "markdown",
   "metadata": {},
   "source": [
    "# Binary Search"
   ]
  },
  {
   "cell_type": "code",
   "execution_count": 1,
   "metadata": {},
   "outputs": [],
   "source": [
    "import math\n",
    "def binary_search(array, value):\n",
    "    \"\"\"This function will take a sorted array and then finds out the value in the array.\"\"\"\n",
    "    start = 0\n",
    "    end = len(array)-1\n",
    "    middle = (end + start)//2\n",
    "    \n",
    "    for i in range(int(math.log2(len(array))) + 1):\n",
    "        if value > array[middle]:\n",
    "            start = middle\n",
    "            middle = math.ceil((end + start)/2)\n",
    "            \n",
    "        elif value == array[middle]:\n",
    "            print(\"found!!!!, at index {}\".format(middle))\n",
    "            return True\n",
    "        else:\n",
    "            end = middle\n",
    "            middle = math.floor((end + start)/2)\n",
    "        \n",
    "    \n",
    "    print(\"Sorry, Not found because you searched something that is not present.\")\n",
    "    return False\n",
    "            \n",
    "    \n",
    "            "
   ]
  },
  {
   "cell_type": "code",
   "execution_count": 2,
   "metadata": {},
   "outputs": [
    {
     "name": "stdout",
     "output_type": "stream",
     "text": [
      "found!!!!, at index 4\n"
     ]
    },
    {
     "data": {
      "text/plain": [
       "True"
      ]
     },
     "execution_count": 2,
     "metadata": {},
     "output_type": "execute_result"
    }
   ],
   "source": [
    "binary_search([3, 4 , 10, 20, 21], 21)\n"
   ]
  },
  {
   "cell_type": "code",
   "execution_count": 3,
   "metadata": {},
   "outputs": [
    {
     "name": "stdout",
     "output_type": "stream",
     "text": [
      "found!!!!, at index 0\n"
     ]
    },
    {
     "data": {
      "text/plain": [
       "True"
      ]
     },
     "execution_count": 3,
     "metadata": {},
     "output_type": "execute_result"
    }
   ],
   "source": [
    "binary_search([3, 4, 10, 20], 3)\n"
   ]
  },
  {
   "cell_type": "code",
   "execution_count": 4,
   "metadata": {},
   "outputs": [
    {
     "name": "stdout",
     "output_type": "stream",
     "text": [
      "Sorry, Not found because you searched something that is not present.\n"
     ]
    },
    {
     "data": {
      "text/plain": [
       "False"
      ]
     },
     "execution_count": 4,
     "metadata": {},
     "output_type": "execute_result"
    }
   ],
   "source": [
    "binary_search([3, 4, 10, 20, 21, 30, 33], 35)"
   ]
  },
  {
   "cell_type": "code",
   "execution_count": null,
   "metadata": {},
   "outputs": [],
   "source": []
  }
 ],
 "metadata": {
  "kernelspec": {
   "display_name": "Python 3",
   "language": "python",
   "name": "python3"
  },
  "language_info": {
   "codemirror_mode": {
    "name": "ipython",
    "version": 3
   },
   "file_extension": ".py",
   "mimetype": "text/x-python",
   "name": "python",
   "nbconvert_exporter": "python",
   "pygments_lexer": "ipython3",
   "version": "3.7.1"
  }
 },
 "nbformat": 4,
 "nbformat_minor": 2
}
