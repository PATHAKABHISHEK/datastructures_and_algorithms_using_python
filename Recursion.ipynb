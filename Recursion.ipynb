{
 "cells": [
  {
   "cell_type": "markdown",
   "metadata": {},
   "source": [
    "# Recursion"
   ]
  },
  {
   "cell_type": "markdown",
   "metadata": {},
   "source": [
    "### 1. Fibonacci Series Generation with Loops"
   ]
  },
  {
   "cell_type": "code",
   "execution_count": 7,
   "metadata": {},
   "outputs": [],
   "source": [
    "def get_fibonacci(position):\n",
    "    \"\"\"position will be given as taking 1 as the starting point not 0.\"\"\"\n",
    "    first = 0\n",
    "    second = 1\n",
    "    value_at_position = 0\n",
    "    \n",
    "    if position < 0:\n",
    "        return None\n",
    "    elif position == 1:\n",
    "        return first\n",
    "    elif position == 2:\n",
    "        return second\n",
    "    else:\n",
    "        for i in range(position-2):\n",
    "            value_at_position = first + second\n",
    "            first = second\n",
    "            second = value_at_position\n",
    "        return value_at_position\n",
    "            \n",
    "                \n",
    "                \n",
    "                \n",
    "                "
   ]
  },
  {
   "cell_type": "code",
   "execution_count": 9,
   "metadata": {},
   "outputs": [
    {
     "data": {
      "text/plain": [
       "21"
      ]
     },
     "execution_count": 9,
     "metadata": {},
     "output_type": "execute_result"
    }
   ],
   "source": [
    "get_fibonacci(9)"
   ]
  },
  {
   "cell_type": "markdown",
   "metadata": {},
   "source": [
    "###  2. Fibonacci series Generation with Recursion "
   ]
  },
  {
   "cell_type": "code",
   "execution_count": 12,
   "metadata": {},
   "outputs": [],
   "source": [
    "def get_fibonacci_recursion(position):\n",
    "    \"\"\"position will be given as taking 1 as the starting point not 0.\"\"\"\n",
    "    first = 0\n",
    "    second = 1\n",
    "    value_at_position = 0\n",
    "    \n",
    "    if position < 0:\n",
    "        return None\n",
    "    elif position == 1:\n",
    "        return first\n",
    "    elif position == 2:\n",
    "        return second\n",
    "    else:\n",
    "        value_at_position = get_fibonacci_recursion(position-1) + get_fibonacci_recursion(position -2)\n",
    "        return value_at_position\n",
    "            "
   ]
  },
  {
   "cell_type": "code",
   "execution_count": 15,
   "metadata": {},
   "outputs": [
    {
     "data": {
      "text/plain": [
       "21"
      ]
     },
     "execution_count": 15,
     "metadata": {},
     "output_type": "execute_result"
    }
   ],
   "source": [
    "get_fibonacci_recursion(9)"
   ]
  },
  {
   "cell_type": "code",
   "execution_count": null,
   "metadata": {},
   "outputs": [],
   "source": []
  }
 ],
 "metadata": {
  "kernelspec": {
   "display_name": "Python 3",
   "language": "python",
   "name": "python3"
  },
  "language_info": {
   "codemirror_mode": {
    "name": "ipython",
    "version": 3
   },
   "file_extension": ".py",
   "mimetype": "text/x-python",
   "name": "python",
   "nbconvert_exporter": "python",
   "pygments_lexer": "ipython3",
   "version": "3.7.1"
  }
 },
 "nbformat": 4,
 "nbformat_minor": 2
}
