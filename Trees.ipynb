{
 "cells": [
  {
   "cell_type": "markdown",
   "metadata": {},
   "source": [
    "# Tree Implementation"
   ]
  },
  {
   "cell_type": "code",
   "execution_count": 4,
   "metadata": {},
   "outputs": [],
   "source": [
    "class Node():\n",
    "    \n",
    "    def __init__(self, data):\n",
    "        self.data = data\n",
    "        self.left = None\n",
    "        self.right = None\n",
    "\n",
    "    \n",
    "    def insert(self, data):\n",
    "        if self.data:\n",
    "            if data < self.data:\n",
    "                if self.left:\n",
    "                    self.left.insert(data)\n",
    "                else:\n",
    "                    self.left = Node(data)\n",
    "            if data > self.data:\n",
    "                if self.right:\n",
    "                    self.right.insert(data)\n",
    "                else:\n",
    "                    self.right = Node(data)\n",
    "        else:\n",
    "            self.data  = data\n",
    "        \n",
    "    def search(self, data):\n",
    "        if self.data:\n",
    "            if data == self.data:\n",
    "                return True\n",
    "            elif data < self.data:\n",
    "                if self.left:\n",
    "                    self.left.search(data)\n",
    "            elif data > self.data:\n",
    "                if self.right:\n",
    "                    self.right.search(data)\n",
    "        else:\n",
    "            print(\"Nothing to search, tree is empty\")\n",
    "            return False\n",
    "            \n",
    "    \n",
    "    def printTree(self):\n",
    "        if self.data:\n",
    "            print(self.data)\n",
    "            if self.left:\n",
    "                self.left.printTree()\n",
    "            if self.right:\n",
    "                self.right.printTree()\n",
    "        else:\n",
    "            print(\"Nothing to print\")\n",
    "    \n",
    "        \n",
    "    \n",
    "    \n",
    "        "
   ]
  },
  {
   "cell_type": "code",
   "execution_count": 5,
   "metadata": {},
   "outputs": [],
   "source": [
    "root = 3\n",
    "my_tree = Node(root)\n",
    "my_tree.insert(1)\n",
    "my_tree.insert(5)\n",
    "my_tree.insert(31)\n",
    "my_tree.insert(2)\n",
    "my_tree.insert(10)\n",
    "my_tree.insert(20)\n",
    "my_tree.insert(9)\n",
    "my_tree.insert(4)"
   ]
  },
  {
   "cell_type": "code",
   "execution_count": 6,
   "metadata": {},
   "outputs": [
    {
     "name": "stdout",
     "output_type": "stream",
     "text": [
      "3\n",
      "1\n",
      "Nothing to print\n",
      "2\n",
      "5\n",
      "4\n",
      "10\n",
      "9\n",
      "20\n"
     ]
    }
   ],
   "source": [
    "my_tree.printTree()"
   ]
  },
  {
   "cell_type": "code",
   "execution_count": null,
   "metadata": {},
   "outputs": [],
   "source": []
  },
  {
   "cell_type": "code",
   "execution_count": null,
   "metadata": {},
   "outputs": [],
   "source": []
  },
  {
   "cell_type": "code",
   "execution_count": null,
   "metadata": {},
   "outputs": [],
   "source": []
  },
  {
   "cell_type": "code",
   "execution_count": null,
   "metadata": {},
   "outputs": [],
   "source": []
  }
 ],
 "metadata": {
  "kernelspec": {
   "display_name": "Python 3",
   "language": "python",
   "name": "python3"
  },
  "language_info": {
   "codemirror_mode": {
    "name": "ipython",
    "version": 3
   },
   "file_extension": ".py",
   "mimetype": "text/x-python",
   "name": "python",
   "nbconvert_exporter": "python",
   "pygments_lexer": "ipython3",
   "version": "3.7.1"
  }
 },
 "nbformat": 4,
 "nbformat_minor": 2
}
